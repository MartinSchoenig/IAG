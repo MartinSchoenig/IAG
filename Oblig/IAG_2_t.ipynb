{
  "cells": [
    {
      "cell_type": "markdown",
      "metadata": {
        "id": "JgTH-vb24nd5"
      },
      "source": [
        "# Estimating distributions (part 2)\n",
        "The goal of this notebook is to explore a first approach to approximate $p(y|x)$ and $p(x|y)$ on a tabular dataset where $x$ is real-valued, $x\\in\\mathbb{R}^k$, and the target $y$ is discrete and finite, $y\\in\\{0,\\ldots,d\\}⊆\\mathbb{N}, d\\geq 1$."
      ]
    },
    {
      "cell_type": "markdown",
      "metadata": {
        "id": "Q2k8eV_m4blR"
      },
      "source": [
        "## Imports"
      ]
    },
    {
      "cell_type": "code",
      "execution_count": 84,
      "metadata": {
        "id": "btNpRxlWh7P7"
      },
      "outputs": [],
      "source": [
        "from sklearn import datasets\n",
        "import numpy as np\n",
        "import matplotlib.pyplot as plt\n",
        "import pandas as pd\n",
        "from scipy.stats import norm"
      ]
    },
    {
      "cell_type": "markdown",
      "metadata": {
        "id": "mNBA2Pdc3a_E"
      },
      "source": [
        "## Load data set"
      ]
    },
    {
      "cell_type": "code",
      "execution_count": 36,
      "metadata": {
        "id": "UuXlZy-0iMsg"
      },
      "outputs": [],
      "source": [
        "iris = datasets.load_iris()"
      ]
    },
    {
      "cell_type": "code",
      "execution_count": 37,
      "metadata": {
        "colab": {
          "base_uri": "https://localhost:8080/"
        },
        "id": "QAz6Nk1oowVb",
        "outputId": "0f68d3b9-3366-474a-f380-01686b52a5fb"
      },
      "outputs": [
        {
          "data": {
            "text/plain": [
              "array(['setosa', 'versicolor', 'virginica'], dtype='<U10')"
            ]
          },
          "execution_count": 37,
          "metadata": {},
          "output_type": "execute_result"
        }
      ],
      "source": [
        "iris.target_names"
      ]
    },
    {
      "cell_type": "code",
      "execution_count": 38,
      "metadata": {
        "colab": {
          "base_uri": "https://localhost:8080/"
        },
        "id": "DEc7gkxalucI",
        "outputId": "031d3263-2bc4-4d72-e011-35c22d601d3e"
      },
      "outputs": [
        {
          "data": {
            "text/plain": [
              "['sepal length (cm)',\n",
              " 'sepal width (cm)',\n",
              " 'petal length (cm)',\n",
              " 'petal width (cm)']"
            ]
          },
          "execution_count": 38,
          "metadata": {},
          "output_type": "execute_result"
        }
      ],
      "source": [
        "iris.feature_names"
      ]
    },
    {
      "cell_type": "code",
      "execution_count": 39,
      "metadata": {
        "id": "5wKijNM9iVEY"
      },
      "outputs": [],
      "source": [
        "X = iris.data\n",
        "y = iris.target"
      ]
    },
    {
      "cell_type": "code",
      "execution_count": 49,
      "metadata": {},
      "outputs": [
        {
          "data": {
            "image/png": "[encoded data removed]",
            "text/plain": [
              "<Figure size 640x480 with 1 Axes>"
            ]
          },
          "metadata": {},
          "output_type": "display_data"
        }
      ],
      "source": [
        "x = X[:,0]\n",
        "for i in range(3):\n",
        "    plt.hist(x[y==i])"
      ]
    },
    {
      "cell_type": "markdown",
      "metadata": {
        "id": "O-Mac28j3GSA"
      },
      "source": [
        "## Approximate $p(y|x)$\n",
        "Take $x$ to be sepal length and estimate the conditional probability of the target variable $y$ given $x$. Then, sample 10 values of $y$ given a $x=4.75$."
      ]
    },
    {
      "cell_type": "code",
      "execution_count": 43,
      "metadata": {},
      "outputs": [
        {
          "data": {
            "image/png": "[encoded data removed]",
            "text/plain": [
              "<Figure size 640x480 with 1 Axes>"
            ]
          },
          "metadata": {},
          "output_type": "display_data"
        }
      ],
      "source": [
        "x = X[:,0]\n",
        "\n",
        "bins = np.linspace(4,7,5)\n",
        "\n",
        "for i in range(3):\n",
        "    plt.hist(x[y==i],bins,alpha=0.5, label=iris.target_names[i])\n",
        "    \n",
        "plt.legend(loc='upper right')\n",
        "plt.xlabel('sepal length (cm)')\n",
        "plt.ylabel('count')\n",
        "plt.show()"
      ]
    },
    {
      "cell_type": "code",
      "execution_count": 51,
      "metadata": {},
      "outputs": [],
      "source": [
        "hist = np.zeros((3,4))\n",
        "for i in range(3):\n",
        "    lengths = x[y==i]\n",
        "    hist[i] =  np.histogram(lengths, bins)[0]\n"
      ]
    },
    {
      "cell_type": "code",
      "execution_count": 52,
      "metadata": {},
      "outputs": [
        {
          "data": {
            "text/plain": [
              "array([[11., 34.,  5.,  0.],\n",
              "       [ 0.,  6., 30., 14.],\n",
              "       [ 0.,  1., 12., 25.]])"
            ]
          },
          "execution_count": 52,
          "metadata": {},
          "output_type": "execute_result"
        }
      ],
      "source": [
        "hist"
      ]
    },
    {
      "cell_type": "code",
      "execution_count": 53,
      "metadata": {},
      "outputs": [
        {
          "data": {
            "text/html": [
              "<div>\n",
              "<style scoped>\n",
              "    .dataframe tbody tr th:only-of-type {\n",
              "        vertical-align: middle;\n",
              "    }\n",
              "\n",
              "    .dataframe tbody tr th {\n",
              "        vertical-align: top;\n",
              "    }\n",
              "\n",
              "    .dataframe thead th {\n",
              "        text-align: right;\n",
              "    }\n",
              "</style>\n",
              "<table border=\"1\" class=\"dataframe\">\n",
              "  <thead>\n",
              "    <tr style=\"text-align: right;\">\n",
              "      <th></th>\n",
              "      <th>4-4.75</th>\n",
              "      <th>4.75-5.5</th>\n",
              "      <th>5.5-6.25</th>\n",
              "      <th>6.25-7</th>\n",
              "    </tr>\n",
              "  </thead>\n",
              "  <tbody>\n",
              "    <tr>\n",
              "      <th>setosa</th>\n",
              "      <td>11.0</td>\n",
              "      <td>34.0</td>\n",
              "      <td>5.0</td>\n",
              "      <td>0.0</td>\n",
              "    </tr>\n",
              "    <tr>\n",
              "      <th>versicolor</th>\n",
              "      <td>0.0</td>\n",
              "      <td>6.0</td>\n",
              "      <td>30.0</td>\n",
              "      <td>14.0</td>\n",
              "    </tr>\n",
              "    <tr>\n",
              "      <th>virginica</th>\n",
              "      <td>0.0</td>\n",
              "      <td>1.0</td>\n",
              "      <td>12.0</td>\n",
              "      <td>25.0</td>\n",
              "    </tr>\n",
              "  </tbody>\n",
              "</table>\n",
              "</div>"
            ],
            "text/plain": [
              "            4-4.75  4.75-5.5  5.5-6.25  6.25-7\n",
              "setosa        11.0      34.0       5.0     0.0\n",
              "versicolor     0.0       6.0      30.0    14.0\n",
              "virginica      0.0       1.0      12.0    25.0"
            ]
          },
          "execution_count": 53,
          "metadata": {},
          "output_type": "execute_result"
        }
      ],
      "source": [
        "counts = pd.DataFrame(hist, columns=['4-4.75','4.75-5.5','5.5-6.25','6.25-7'], index=iris.target_names)\n",
        "counts"
      ]
    },
    {
      "cell_type": "code",
      "execution_count": 54,
      "metadata": {},
      "outputs": [
        {
          "data": {
            "text/html": [
              "<div>\n",
              "<style scoped>\n",
              "    .dataframe tbody tr th:only-of-type {\n",
              "        vertical-align: middle;\n",
              "    }\n",
              "\n",
              "    .dataframe tbody tr th {\n",
              "        vertical-align: top;\n",
              "    }\n",
              "\n",
              "    .dataframe thead th {\n",
              "        text-align: right;\n",
              "    }\n",
              "</style>\n",
              "<table border=\"1\" class=\"dataframe\">\n",
              "  <thead>\n",
              "    <tr style=\"text-align: right;\">\n",
              "      <th></th>\n",
              "      <th>4-4.75</th>\n",
              "      <th>4.75-5.5</th>\n",
              "      <th>5.5-6.25</th>\n",
              "      <th>6.25-7</th>\n",
              "    </tr>\n",
              "  </thead>\n",
              "  <tbody>\n",
              "    <tr>\n",
              "      <th>setosa</th>\n",
              "      <td>1.0</td>\n",
              "      <td>0.829268</td>\n",
              "      <td>0.106383</td>\n",
              "      <td>0.000000</td>\n",
              "    </tr>\n",
              "    <tr>\n",
              "      <th>versicolor</th>\n",
              "      <td>0.0</td>\n",
              "      <td>0.146341</td>\n",
              "      <td>0.638298</td>\n",
              "      <td>0.358974</td>\n",
              "    </tr>\n",
              "    <tr>\n",
              "      <th>virginica</th>\n",
              "      <td>0.0</td>\n",
              "      <td>0.024390</td>\n",
              "      <td>0.255319</td>\n",
              "      <td>0.641026</td>\n",
              "    </tr>\n",
              "  </tbody>\n",
              "</table>\n",
              "</div>"
            ],
            "text/plain": [
              "            4-4.75  4.75-5.5  5.5-6.25    6.25-7\n",
              "setosa         1.0  0.829268  0.106383  0.000000\n",
              "versicolor     0.0  0.146341  0.638298  0.358974\n",
              "virginica      0.0  0.024390  0.255319  0.641026"
            ]
          },
          "execution_count": 54,
          "metadata": {},
          "output_type": "execute_result"
        }
      ],
      "source": [
        "proba = counts\n",
        "for i in range(counts.shape[1]):\n",
        "    proba.iloc[:,i] = proba.iloc[:,i]/proba.iloc[:,i].sum()\n",
        "proba"
      ]
    },
    {
      "cell_type": "code",
      "execution_count": 55,
      "metadata": {},
      "outputs": [
        {
          "data": {
            "text/plain": [
              "array(['setosa', 'setosa', 'setosa', 'setosa', 'setosa', 'setosa',\n",
              "       'setosa', 'setosa', 'versicolor', 'setosa'], dtype='<U10')"
            ]
          },
          "execution_count": 55,
          "metadata": {},
          "output_type": "execute_result"
        }
      ],
      "source": [
        "np.random.choice(iris.target_names, size=10, p=proba['4.75-5.5'])"
      ]
    },
    {
      "cell_type": "markdown",
      "metadata": {
        "id": "SA-qw4kN5IE9"
      },
      "source": [
        "## Approximate $p(x|y)$\n",
        "Take $y$ to be setosa and estimate the probability of sepal length given setosa (or, equivalently, the *likelihood* of setosa given sepal length). Then, generate 10 samples of sepal length and label them appropriately."
      ]
    },
    {
      "cell_type": "code",
      "execution_count": 166,
      "metadata": {},
      "outputs": [
        {
          "data": {
            "image/png": "[encoded data removed]",
            "text/plain": [
              "<Figure size 640x480 with 1 Axes>"
            ]
          },
          "metadata": {},
          "output_type": "display_data"
        }
      ],
      "source": [
        "x = X[:,0]\n",
        "\n",
        "bins = np.linspace(4,7,5)\n",
        "\n",
        "plt.hist(x[y==0],bins,alpha=0.5, label=iris.target_names[0])\n",
        "    \n",
        "plt.legend(loc='upper right')\n",
        "plt.xlabel('sepal length (cm)')\n",
        "plt.ylabel('count')\n",
        "plt.show()"
      ]
    },
    {
      "cell_type": "code",
      "execution_count": 167,
      "metadata": {},
      "outputs": [
        {
          "data": {
            "text/plain": [
              "array([11, 34,  5,  0], dtype=int64)"
            ]
          },
          "execution_count": 167,
          "metadata": {},
          "output_type": "execute_result"
        }
      ],
      "source": [
        "setosa_lengths = x[y==0]\n",
        "setosa_hist = np.histogram(setosa_lengths, bins)[0]\n",
        "setosa_hist"
      ]
    },
    {
      "cell_type": "code",
      "execution_count": 168,
      "metadata": {},
      "outputs": [
        {
          "data": {
            "text/plain": [
              "array([0.22, 0.68, 0.1 , 0.  ])"
            ]
          },
          "execution_count": 168,
          "metadata": {},
          "output_type": "execute_result"
        }
      ],
      "source": [
        "setosa_proba = setosa_hist / np.sum(setosa_hist)\n",
        "setosa_proba"
      ]
    },
    {
      "cell_type": "code",
      "execution_count": 169,
      "metadata": {},
      "outputs": [
        {
          "data": {
            "text/plain": [
              "array([4.75, 4.  , 4.75, 4.75, 5.5 , 4.  , 4.75, 4.75, 4.  , 4.75])"
            ]
          },
          "execution_count": 169,
          "metadata": {},
          "output_type": "execute_result"
        }
      ],
      "source": [
        "setosa_valores = np.random.choice(bins[:-1], size=10, p=setosa_proba)\n",
        "setosa_valores"
      ]
    },
    {
      "cell_type": "code",
      "execution_count": 173,
      "metadata": {},
      "outputs": [],
      "source": [
        "def get_low_high(bins, valor):\n",
        "    for i in range(len(bins) - 1):\n",
        "        if bins[i] == valor:\n",
        "            return bins[i], bins[i+1]"
      ]
    },
    {
      "cell_type": "code",
      "execution_count": 174,
      "metadata": {},
      "outputs": [
        {
          "name": "stdout",
          "output_type": "stream",
          "text": [
            "---\n",
            "4.75 5.5\n",
            "[5.14308594]\n",
            "---\n",
            "4.0 4.75\n",
            "[4.17262358]\n",
            "---\n",
            "4.75 5.5\n",
            "[4.79631798]\n",
            "---\n",
            "4.75 5.5\n",
            "[5.15713892]\n",
            "---\n",
            "5.5 6.25\n",
            "[5.64091225]\n",
            "---\n",
            "4.0 4.75\n",
            "[4.73974522]\n",
            "---\n",
            "4.75 5.5\n",
            "[4.94256586]\n",
            "---\n",
            "4.75 5.5\n",
            "[4.86519539]\n",
            "---\n",
            "4.0 4.75\n",
            "[4.02694169]\n",
            "---\n",
            "4.75 5.5\n",
            "[5.33488155]\n"
          ]
        }
      ],
      "source": [
        "for setosa_valor in setosa_valores:\n",
        "    low, high = get_low_high(bins, setosa_valor)\n",
        "    print(\"---\")\n",
        "    print(low, high)\n",
        "    print(np.random.uniform(low, high, size=1))"
      ]
    },
    {
      "cell_type": "code",
      "execution_count": 175,
      "metadata": {},
      "outputs": [
        {
          "data": {
            "text/plain": [
              "array([5.42508921, 4.82244   , 4.90032463, 5.03892819, 5.12156405,\n",
              "       4.81664026, 4.98108178, 5.47458372, 5.20294922, 5.2682182 ])"
            ]
          },
          "execution_count": 175,
          "metadata": {},
          "output_type": "execute_result"
        }
      ],
      "source": [
        "np.random.uniform(low, high, size=10)"
      ]
    },
    {
      "cell_type": "markdown",
      "metadata": {},
      "source": [
        "# P(Y)"
      ]
    },
    {
      "cell_type": "code",
      "execution_count": 176,
      "metadata": {},
      "outputs": [
        {
          "data": {
            "text/html": [
              "<div>\n",
              "<style scoped>\n",
              "    .dataframe tbody tr th:only-of-type {\n",
              "        vertical-align: middle;\n",
              "    }\n",
              "\n",
              "    .dataframe tbody tr th {\n",
              "        vertical-align: top;\n",
              "    }\n",
              "\n",
              "    .dataframe thead th {\n",
              "        text-align: right;\n",
              "    }\n",
              "</style>\n",
              "<table border=\"1\" class=\"dataframe\">\n",
              "  <thead>\n",
              "    <tr style=\"text-align: right;\">\n",
              "      <th></th>\n",
              "      <th>Proba</th>\n",
              "      <th>Labels</th>\n",
              "    </tr>\n",
              "  </thead>\n",
              "  <tbody>\n",
              "    <tr>\n",
              "      <th>0</th>\n",
              "      <td>0.333333</td>\n",
              "      <td>setosa</td>\n",
              "    </tr>\n",
              "    <tr>\n",
              "      <th>1</th>\n",
              "      <td>0.333333</td>\n",
              "      <td>versicolor</td>\n",
              "    </tr>\n",
              "    <tr>\n",
              "      <th>2</th>\n",
              "      <td>0.333333</td>\n",
              "      <td>virginica</td>\n",
              "    </tr>\n",
              "  </tbody>\n",
              "</table>\n",
              "</div>"
            ],
            "text/plain": [
              "      Proba      Labels\n",
              "0  0.333333      setosa\n",
              "1  0.333333  versicolor\n",
              "2  0.333333   virginica"
            ]
          },
          "execution_count": 176,
          "metadata": {},
          "output_type": "execute_result"
        }
      ],
      "source": [
        "Y = iris.target\n",
        "\n",
        "count_class_0, count_class_1, count_class_2 = np.bincount(Y)\n",
        "target_names = iris.target_names\n",
        "\n",
        "y_values = [count_class_0, count_class_1, count_class_2]\n",
        "p_y = y_values / np.sum(y_values)\n",
        "\n",
        "df = pd.DataFrame(data = {'Proba': p_y, 'Labels': target_names})\n",
        "df"
      ]
    },
    {
      "cell_type": "markdown",
      "metadata": {},
      "source": [
        "# P(X| y=Versicolor)"
      ]
    },
    {
      "cell_type": "code",
      "execution_count": 177,
      "metadata": {},
      "outputs": [
        {
          "data": {
            "image/png": "[encoded data removed]",
            "text/plain": [
              "<Figure size 640x480 with 1 Axes>"
            ]
          },
          "metadata": {},
          "output_type": "display_data"
        }
      ],
      "source": [
        "x = X[:,0]\n",
        "\n",
        "bins = np.linspace(4,7,5)\n",
        "\n",
        "plt.hist(x[y==1],bins,alpha=0.5, label=iris.target_names[1], color='orange')\n",
        "    \n",
        "plt.legend(loc='upper right')\n",
        "plt.xlabel('sepal length (cm)')\n",
        "plt.ylabel('count')\n",
        "plt.show()"
      ]
    },
    {
      "cell_type": "code",
      "execution_count": 197,
      "metadata": {},
      "outputs": [
        {
          "data": {
            "text/plain": [
              "array([ 0,  6, 30, 14], dtype=int64)"
            ]
          },
          "execution_count": 197,
          "metadata": {},
          "output_type": "execute_result"
        }
      ],
      "source": [
        "versicolor_lengths = x[y==1]\n",
        "versicolor_hist = np.histogram(versicolor_lengths, bins)[0]\n",
        "versicolor_hist"
      ]
    },
    {
      "cell_type": "code",
      "execution_count": 193,
      "metadata": {},
      "outputs": [
        {
          "data": {
            "text/plain": [
              "array([0.  , 0.12, 0.6 , 0.28])"
            ]
          },
          "execution_count": 193,
          "metadata": {},
          "output_type": "execute_result"
        }
      ],
      "source": [
        "versicolor_proba = versicolor_hist / np.sum(versicolor_hist)\n",
        "versicolor_proba"
      ]
    },
    {
      "cell_type": "code",
      "execution_count": 194,
      "metadata": {},
      "outputs": [
        {
          "data": {
            "text/plain": [
              "array([5.5 , 5.5 , 6.25, 5.5 , 5.5 , 4.75, 5.5 , 6.25, 5.5 , 5.5 ])"
            ]
          },
          "execution_count": 194,
          "metadata": {},
          "output_type": "execute_result"
        }
      ],
      "source": [
        "versicolor_valores = np.random.choice(bins[:-1], size=10, p=versicolor_proba)\n",
        "versicolor_valores"
      ]
    },
    {
      "cell_type": "code",
      "execution_count": 190,
      "metadata": {},
      "outputs": [
        {
          "name": "stdout",
          "output_type": "stream",
          "text": [
            "---\n",
            "5.5 6.25\n",
            "[5.58727632]\n",
            "---\n",
            "6.25 7.0\n",
            "[6.6958811]\n",
            "---\n",
            "5.5 6.25\n",
            "[5.6696329]\n",
            "---\n",
            "5.5 6.25\n",
            "[5.79483915]\n",
            "---\n",
            "5.5 6.25\n",
            "[6.17603855]\n",
            "---\n",
            "6.25 7.0\n",
            "[6.83434022]\n",
            "---\n",
            "5.5 6.25\n",
            "[6.02395963]\n",
            "---\n",
            "6.25 7.0\n",
            "[6.58301534]\n",
            "---\n",
            "5.5 6.25\n",
            "[5.8837576]\n",
            "---\n",
            "5.5 6.25\n",
            "[6.14464559]\n"
          ]
        }
      ],
      "source": [
        "for versicolor_valor in versicolor_valores:\n",
        "    low, high = get_low_high(bins, versicolor_valor)\n",
        "    print(\"---\")\n",
        "    print(low, high)\n",
        "    print(np.random.uniform(low, high, size=1))"
      ]
    },
    {
      "cell_type": "markdown",
      "metadata": {},
      "source": [
        "# P(X| y=Virginica)"
      ]
    },
    {
      "cell_type": "code",
      "execution_count": 192,
      "metadata": {},
      "outputs": [
        {
          "data": {
            "image/png": "[encoded data removed]",
            "text/plain": [
              "<Figure size 640x480 with 1 Axes>"
            ]
          },
          "metadata": {},
          "output_type": "display_data"
        }
      ],
      "source": [
        "x = X[:,0]\n",
        "\n",
        "bins = np.linspace(4,7,5)\n",
        "\n",
        "plt.hist(x[y==2],bins,alpha=0.5, label=iris.target_names[2], color='green')\n",
        "    \n",
        "plt.legend(loc='upper right')\n",
        "plt.xlabel('sepal length (cm)')\n",
        "plt.ylabel('count')\n",
        "plt.show()\n"
      ]
    },
    {
      "cell_type": "code",
      "execution_count": 200,
      "metadata": {},
      "outputs": [
        {
          "data": {
            "text/plain": [
              "array([ 0,  1, 12, 25], dtype=int64)"
            ]
          },
          "execution_count": 200,
          "metadata": {},
          "output_type": "execute_result"
        }
      ],
      "source": [
        "virginica_lengths = x[y==2]\n",
        "virginica_hist = np.histogram(virginica_lengths, bins)[0]\n",
        "virginica_hist"
      ]
    },
    {
      "cell_type": "code",
      "execution_count": 201,
      "metadata": {},
      "outputs": [
        {
          "data": {
            "text/plain": [
              "array([0.        , 0.02631579, 0.31578947, 0.65789474])"
            ]
          },
          "execution_count": 201,
          "metadata": {},
          "output_type": "execute_result"
        }
      ],
      "source": [
        "virginica_proba = virginica_hist / np.sum(virginica_hist)\n",
        "virginica_proba"
      ]
    },
    {
      "cell_type": "code",
      "execution_count": 202,
      "metadata": {},
      "outputs": [
        {
          "data": {
            "text/plain": [
              "array([6.25, 6.25, 5.5 , 6.25, 6.25, 5.5 , 6.25, 6.25, 6.25, 6.25])"
            ]
          },
          "execution_count": 202,
          "metadata": {},
          "output_type": "execute_result"
        }
      ],
      "source": [
        "virginica_valores = np.random.choice(bins[:-1], size=10, p=virginica_proba)\n",
        "virginica_valores"
      ]
    },
    {
      "cell_type": "code",
      "execution_count": 203,
      "metadata": {},
      "outputs": [
        {
          "name": "stdout",
          "output_type": "stream",
          "text": [
            "---\n",
            "6.25 7.0\n",
            "[6.26106106]\n",
            "---\n",
            "6.25 7.0\n",
            "[6.83154591]\n",
            "---\n",
            "5.5 6.25\n",
            "[5.80416887]\n",
            "---\n",
            "6.25 7.0\n",
            "[6.30419664]\n",
            "---\n",
            "6.25 7.0\n",
            "[6.87466879]\n",
            "---\n",
            "5.5 6.25\n",
            "[5.62987473]\n",
            "---\n",
            "6.25 7.0\n",
            "[6.96152417]\n",
            "---\n",
            "6.25 7.0\n",
            "[6.33520376]\n",
            "---\n",
            "6.25 7.0\n",
            "[6.32520425]\n",
            "---\n",
            "6.25 7.0\n",
            "[6.99264596]\n"
          ]
        }
      ],
      "source": [
        "for virginica_valor in virginica_valores:\n",
        "    low, high = get_low_high(bins, virginica_valor)\n",
        "    print(\"---\")\n",
        "    print(low, high)\n",
        "    print(np.random.uniform(low, high, size=1))"
      ]
    },
    {
      "cell_type": "markdown",
      "metadata": {},
      "source": [
        "# P(sepal length) = P(x | y=setosa) P(y=setosa) + P(x | y=versicolor) P(y=versicolor) + P(x | y=virginica) P(y=virginica) "
      ]
    },
    {
      "cell_type": "code",
      "execution_count": 221,
      "metadata": {},
      "outputs": [
        {
          "name": "stdout",
          "output_type": "stream",
          "text": [
            "[5.9591274]\n"
          ]
        }
      ],
      "source": [
        "setosa_valor = np.random.choice(bins[:-1], size=1, p=setosa_proba)\n",
        "setosa_low, setosa_high = get_low_high(bins, setosa_valor)\n",
        "s = np.random.uniform(setosa_low, setosa_high, size=1)\n",
        "\n",
        "versicolor_valor = np.random.choice(bins[:-1], size=1, p=versicolor_proba)\n",
        "versicolor_low, versicolor_high = get_low_high(bins, versicolor_valor)\n",
        "v = np.random.uniform(versicolor_low, versicolor_high, size=1)\n",
        "\n",
        "virginica_valor = np.random.choice(bins[:-1], size=1, p=virginica_proba)\n",
        "virginica_low, virginica_high = get_low_high(bins, virginica_valor)\n",
        "vi = np.random.uniform(virginica_low, virginica_high, size=1)\n",
        "\n",
        "p_sepal_length = s*1/3 + v*1/3 + vi*1/3\n",
        "print(p_sepal_length)\n"
      ]
    },
    {
      "cell_type": "markdown",
      "metadata": {},
      "source": [
        "# Gaussianas"
      ]
    },
    {
      "cell_type": "markdown",
      "metadata": {},
      "source": [
        "# oblig"
      ]
    },
    {
      "cell_type": "markdown",
      "metadata": {},
      "source": [
        "y e {s, ve, vi} \n",
        "\n",
        "2.1 estimacion usando histogramas (linspace, digitize)\n",
        "\n",
        "2.2 Mezcla de gaussianas , pl=N(mu0, sigma0) + N(mu1, sigma1) + N(mu2, sigma2)"
      ]
    },
    {
      "cell_type": "code",
      "execution_count": 78,
      "metadata": {},
      "outputs": [
        {
          "name": "stdout",
          "output_type": "stream",
          "text": [
            "Setosa\n",
            "mean: 5.006\n",
            "std: 0.3489469873777391\n",
            "Versicolor\n",
            "mean: 5.936\n",
            "std: 0.5109833656783751\n",
            "Virginica\n",
            "mean: 6.587999999999998\n",
            "std: 0.6294886813914926\n"
          ]
        }
      ],
      "source": [
        "data = iris.data\n",
        "target = iris.target\n",
        "# Separamos los datos por clases\n",
        "x = X[:,0]\n",
        "setosa_data = x[y==0]\n",
        "versicolor_data = x[y==1]\n",
        "virginica_data = x[y==2]\n",
        "\n",
        "# Estimamos los parámetros de la distribución gaussiana para sepal length\n",
        "mean_setosa = np.mean(setosa_data)\n",
        "std_setosa = np.std(setosa_data)\n",
        "print(f'Setosa') \n",
        "print(f'mean: {mean_setosa}') \n",
        "print(f'std: {std_setosa}') \n",
        "\n",
        "mean_versicolor = np.mean(versicolor_data)\n",
        "std_versicolor = np.std(versicolor_data)\n",
        "print(f'Versicolor') \n",
        "print(f'mean: {mean_versicolor}') \n",
        "print(f'std: {std_versicolor}') \n",
        "\n",
        "mean_virginica= np.mean(virginica_data)\n",
        "std_virginica = np.std(virginica_data)\n",
        "print(f'Virginica') \n",
        "print(f'mean: {mean_virginica}') \n",
        "print(f'std: {std_virginica}') "
      ]
    },
    {
      "cell_type": "code",
      "execution_count": 71,
      "metadata": {},
      "outputs": [
        {
          "data": {
            "text/plain": [
              "5.554390912370137"
            ]
          },
          "execution_count": 71,
          "metadata": {},
          "output_type": "execute_result"
        }
      ],
      "source": [
        "\n",
        "gaussian_setosa = np.random.normal(loc=mean_setosa, scale=std_setosa, size=None)\n",
        "gaussian_setosa"
      ]
    },
    {
      "cell_type": "code",
      "execution_count": 83,
      "metadata": {},
      "outputs": [
        {
          "data": {
            "text/plain": [
              "[<matplotlib.lines.Line2D at 0x168489750>]"
            ]
          },
          "execution_count": 83,
          "metadata": {},
          "output_type": "execute_result"
        },
        {
          "data": {
            "image/png": "[encoded data removed]",
            "text/plain": [
              "<Figure size 640x480 with 1 Axes>"
            ]
          },
          "metadata": {},
          "output_type": "display_data"
        }
      ],
      "source": [
        "\n",
        "x = np.arange(3, 7, 0.01)\n",
        "plt.plot(x, norm.pdf(x, mean_setosa, std_setosa))"
      ]
    },
    {
      "cell_type": "code",
      "execution_count": 90,
      "metadata": {},
      "outputs": [
        {
          "data": {
            "text/plain": [
              "6.079613655432075"
            ]
          },
          "execution_count": 90,
          "metadata": {},
          "output_type": "execute_result"
        }
      ],
      "source": [
        "gaussian_versicolor = np.random.normal(loc=mean_versicolor, scale=std_versicolor, size=None)\n",
        "gaussian_versicolor"
      ]
    },
    {
      "cell_type": "code",
      "execution_count": 93,
      "metadata": {},
      "outputs": [
        {
          "data": {
            "text/plain": [
              "[<matplotlib.lines.Line2D at 0x1684b54e0>]"
            ]
          },
          "execution_count": 93,
          "metadata": {},
          "output_type": "execute_result"
        },
        {
          "data": {
            "image/png": "[encoded data removed]",
            "text/plain": [
              "<Figure size 640x480 with 1 Axes>"
            ]
          },
          "metadata": {},
          "output_type": "display_data"
        }
      ],
      "source": [
        "\n",
        "x = np.arange(4, 8, 0.01)\n",
        "plt.plot(x, norm.pdf(x, mean_versicolor, std_versicolor))"
      ]
    },
    {
      "cell_type": "code",
      "execution_count": 73,
      "metadata": {},
      "outputs": [
        {
          "data": {
            "text/plain": [
              "6.6308370144013224"
            ]
          },
          "execution_count": 73,
          "metadata": {},
          "output_type": "execute_result"
        }
      ],
      "source": [
        "gaussian_virginica = np.random.normal(loc=mean_virginica, scale=std_virginica, size=None)\n",
        "gaussian_virginica"
      ]
    },
    {
      "cell_type": "code",
      "execution_count": 95,
      "metadata": {},
      "outputs": [
        {
          "data": {
            "text/plain": [
              "[<matplotlib.lines.Line2D at 0x168864520>]"
            ]
          },
          "execution_count": 95,
          "metadata": {},
          "output_type": "execute_result"
        },
        {
          "data": {
            "image/png": "[encoded data removed]",
            "text/plain": [
              "<Figure size 640x480 with 1 Axes>"
            ]
          },
          "metadata": {},
          "output_type": "display_data"
        }
      ],
      "source": [
        "x = np.arange(4, 9, 0.01)\n",
        "plt.plot(x, norm.pdf(x, mean_virginica, std_virginica))"
      ]
    },
    {
      "cell_type": "code",
      "execution_count": 96,
      "metadata": {},
      "outputs": [
        {
          "data": {
            "text/plain": [
              "6.063487825959779"
            ]
          },
          "execution_count": 96,
          "metadata": {},
          "output_type": "execute_result"
        }
      ],
      "source": [
        "gaussian_setosa = np.random.normal(loc=mean_setosa, scale=std_setosa, size=None)\n",
        "gaussian_versicolor = np.random.normal(loc=mean_versicolor, scale=std_versicolor, size=None)\n",
        "gaussian_virginica = np.random.normal(loc=mean_virginica, scale=std_virginica, size=None)\n",
        "prob_sepal_length = gaussian_setosa*1/3 + gaussian_versicolor*1/3 + gaussian_virginica*1/3 \n",
        "prob_sepal_length"
      ]
    },
    {
      "cell_type": "markdown",
      "metadata": {},
      "source": [
        "Esto no va en esta notebook pero lo dejo\n",
        "\n",
        "3. Autoregressive model (NN) + MNIST\n",
        "4. Idea de obligatorio 2"
      ]
    }
  ],
  "metadata": {
    "colab": {
      "provenance": [],
      "toc_visible": true
    },
    "kernelspec": {
      "display_name": "Python 3",
      "name": "python3"
    },
    "language_info": {
      "codemirror_mode": {
        "name": "ipython",
        "version": 3
      },
      "file_extension": ".py",
      "mimetype": "text/x-python",
      "name": "python",
      "nbconvert_exporter": "python",
      "pygments_lexer": "ipython3",
      "version": "3.9.13"
    }
  },
  "nbformat": 4,
  "nbformat_minor": 0
}
