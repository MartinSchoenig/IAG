{
  "cells": [
    {
      "cell_type": "markdown",
      "metadata": {
        "id": "JgTH-vb24nd5"
      },
      "source": [
        "# Estimating distributions (part 2)\n",
        "The goal of this notebook is to explore a first approach to approximate $p(y|x)$ and $p(x|y)$ on a tabular dataset where $x$ is real-valued, $x\\in\\mathbb{R}^k$, and the target $y$ is discrete and finite, $y\\in\\{0,\\ldots,d\\}⊆\\mathbb{N}, d\\geq 1$."
      ]
    },
    {
      "cell_type": "markdown",
      "metadata": {
        "id": "Q2k8eV_m4blR"
      },
      "source": [
        "## Imports"
      ]
    },
    {
      "cell_type": "code",
      "execution_count": 1,
      "metadata": {
        "id": "btNpRxlWh7P7"
      },
      "outputs": [],
      "source": [
        "from sklearn import datasets\n",
        "import numpy as np\n",
        "import matplotlib.pyplot as plt\n",
        "import pandas as pd\n",
        "from scipy.stats import norm"
      ]
    },
    {
      "cell_type": "markdown",
      "metadata": {
        "id": "mNBA2Pdc3a_E"
      },
      "source": [
        "## Load data set"
      ]
    },
    {
      "cell_type": "code",
      "execution_count": 2,
      "metadata": {
        "id": "UuXlZy-0iMsg"
      },
      "outputs": [],
      "source": [
        "iris = datasets.load_iris()"
      ]
    },
    {
      "cell_type": "code",
      "execution_count": 3,
      "metadata": {
        "colab": {
          "base_uri": "https://localhost:8080/"
        },
        "id": "QAz6Nk1oowVb",
        "outputId": "0f68d3b9-3366-474a-f380-01686b52a5fb"
      },
      "outputs": [
        {
          "data": {
            "text/plain": [
              "array(['setosa', 'versicolor', 'virginica'], dtype='<U10')"
            ]
          },
          "execution_count": 3,
          "metadata": {},
          "output_type": "execute_result"
        }
      ],
      "source": [
        "iris.target_names"
      ]
    },
    {
      "cell_type": "code",
      "execution_count": 4,
      "metadata": {
        "colab": {
          "base_uri": "https://localhost:8080/"
        },
        "id": "DEc7gkxalucI",
        "outputId": "031d3263-2bc4-4d72-e011-35c22d601d3e"
      },
      "outputs": [
        {
          "data": {
            "text/plain": [
              "['sepal length (cm)',\n",
              " 'sepal width (cm)',\n",
              " 'petal length (cm)',\n",
              " 'petal width (cm)']"
            ]
          },
          "execution_count": 4,
          "metadata": {},
          "output_type": "execute_result"
        }
      ],
      "source": [
        "iris.feature_names"
      ]
    },
    {
      "cell_type": "code",
      "execution_count": 5,
      "metadata": {
        "id": "5wKijNM9iVEY"
      },
      "outputs": [],
      "source": [
        "X = iris.data\n",
        "y = iris.target"
      ]
    },
    {
      "cell_type": "code",
      "execution_count": 6,
      "metadata": {},
      "outputs": [
        {
          "data": {
            "image/png": "[encoded data removed]",
            "text/plain": [
              "<Figure size 640x480 with 1 Axes>"
            ]
          },
          "metadata": {},
          "output_type": "display_data"
        }
      ],
      "source": [
        "x = X[:,0]\n",
        "for i in range(3):\n",
        "    plt.hist(x[y==i])"
      ]
    },
    {
      "cell_type": "markdown",
      "metadata": {
        "id": "O-Mac28j3GSA"
      },
      "source": [
        "## Approximate $p(y|x)$\n",
        "Take $x$ to be sepal length and estimate the conditional probability of the target variable $y$ given $x$. Then, sample 10 values of $y$ given a $x=4.75$."
      ]
    },
    {
      "cell_type": "code",
      "execution_count": 15,
      "metadata": {},
      "outputs": [
        {
          "data": {
            "image/png": "[encoded data removed]",
            "text/plain": [
              "<Figure size 640x480 with 1 Axes>"
            ]
          },
          "metadata": {},
          "output_type": "display_data"
        }
      ],
      "source": [
        "x = X[:,0]\n",
        "\n",
        "bins = np.linspace(4.3,8,15)\n",
        "\n",
        "for i in range(3):\n",
        "    plt.hist(x[y==i],bins,alpha=0.5, label=iris.target_names[i])\n",
        "    \n",
        "plt.legend(loc='upper right')\n",
        "plt.xlabel('sepal length (cm)')\n",
        "plt.ylabel('count')\n",
        "plt.show()"
      ]
    },
    {
      "cell_type": "code",
      "execution_count": 16,
      "metadata": {},
      "outputs": [],
      "source": [
        "hist = np.zeros((3,14))\n",
        "for i in range(3):\n",
        "    lengths = x[y==i]\n",
        "    hist[i] =  np.histogram(lengths, bins)[0]\n"
      ]
    },
    {
      "cell_type": "code",
      "execution_count": 17,
      "metadata": {},
      "outputs": [
        {
          "data": {
            "text/plain": [
              "array([[ 5., 11., 12., 12.,  7.,  3.,  0.,  0.,  0.,  0.,  0.,  0.,  0.,\n",
              "         0.],\n",
              "       [ 0.,  0.,  3.,  2., 11.,  8., 10.,  7.,  3.,  5.,  1.,  0.,  0.,\n",
              "         0.],\n",
              "       [ 0.,  0.,  1.,  0.,  1.,  4.,  5., 13.,  4., 10.,  4.,  2.,  5.,\n",
              "         1.]])"
            ]
          },
          "execution_count": 17,
          "metadata": {},
          "output_type": "execute_result"
        }
      ],
      "source": [
        "hist"
      ]
    },
    {
      "cell_type": "code",
      "execution_count": 18,
      "metadata": {},
      "outputs": [
        {
          "data": {
            "text/plain": [
              "array([4.3       , 4.56428571, 4.82857143, 5.09285714, 5.35714286,\n",
              "       5.62142857, 5.88571429, 6.15      , 6.41428571, 6.67857143,\n",
              "       6.94285714, 7.20714286, 7.47142857, 7.73571429, 8.        ])"
            ]
          },
          "execution_count": 18,
          "metadata": {},
          "output_type": "execute_result"
        }
      ],
      "source": [
        "bins"
      ]
    },
    {
      "cell_type": "code",
      "execution_count": 19,
      "metadata": {},
      "outputs": [
        {
          "data": {
            "text/html": [
              "<div>\n",
              "<style scoped>\n",
              "    .dataframe tbody tr th:only-of-type {\n",
              "        vertical-align: middle;\n",
              "    }\n",
              "\n",
              "    .dataframe tbody tr th {\n",
              "        vertical-align: top;\n",
              "    }\n",
              "\n",
              "    .dataframe thead th {\n",
              "        text-align: right;\n",
              "    }\n",
              "</style>\n",
              "<table border=\"1\" class=\"dataframe\">\n",
              "  <thead>\n",
              "    <tr style=\"text-align: right;\">\n",
              "      <th></th>\n",
              "      <th>4.3-4.6</th>\n",
              "      <th>4.6-4.8</th>\n",
              "      <th>4.8-5.1</th>\n",
              "      <th>5.1-5.4</th>\n",
              "      <th>5.4-5.6</th>\n",
              "      <th>5.6-5.8</th>\n",
              "      <th>5.8-6.1</th>\n",
              "      <th>6.1-6.4</th>\n",
              "      <th>6.4-6.7</th>\n",
              "      <th>6.7-6.9</th>\n",
              "      <th>6.9-7.2</th>\n",
              "      <th>7.2-7.5</th>\n",
              "      <th>7.5-7.7</th>\n",
              "      <th>7.7-8</th>\n",
              "    </tr>\n",
              "  </thead>\n",
              "  <tbody>\n",
              "    <tr>\n",
              "      <th>setosa</th>\n",
              "      <td>5.0</td>\n",
              "      <td>11.0</td>\n",
              "      <td>12.0</td>\n",
              "      <td>12.0</td>\n",
              "      <td>7.0</td>\n",
              "      <td>3.0</td>\n",
              "      <td>0.0</td>\n",
              "      <td>0.0</td>\n",
              "      <td>0.0</td>\n",
              "      <td>0.0</td>\n",
              "      <td>0.0</td>\n",
              "      <td>0.0</td>\n",
              "      <td>0.0</td>\n",
              "      <td>0.0</td>\n",
              "    </tr>\n",
              "    <tr>\n",
              "      <th>versicolor</th>\n",
              "      <td>0.0</td>\n",
              "      <td>0.0</td>\n",
              "      <td>3.0</td>\n",
              "      <td>2.0</td>\n",
              "      <td>11.0</td>\n",
              "      <td>8.0</td>\n",
              "      <td>10.0</td>\n",
              "      <td>7.0</td>\n",
              "      <td>3.0</td>\n",
              "      <td>5.0</td>\n",
              "      <td>1.0</td>\n",
              "      <td>0.0</td>\n",
              "      <td>0.0</td>\n",
              "      <td>0.0</td>\n",
              "    </tr>\n",
              "    <tr>\n",
              "      <th>virginica</th>\n",
              "      <td>0.0</td>\n",
              "      <td>0.0</td>\n",
              "      <td>1.0</td>\n",
              "      <td>0.0</td>\n",
              "      <td>1.0</td>\n",
              "      <td>4.0</td>\n",
              "      <td>5.0</td>\n",
              "      <td>13.0</td>\n",
              "      <td>4.0</td>\n",
              "      <td>10.0</td>\n",
              "      <td>4.0</td>\n",
              "      <td>2.0</td>\n",
              "      <td>5.0</td>\n",
              "      <td>1.0</td>\n",
              "    </tr>\n",
              "  </tbody>\n",
              "</table>\n",
              "</div>"
            ],
            "text/plain": [
              "            4.3-4.6  4.6-4.8  4.8-5.1  5.1-5.4  5.4-5.6  5.6-5.8  5.8-6.1  \\\n",
              "setosa          5.0     11.0     12.0     12.0      7.0      3.0      0.0   \n",
              "versicolor      0.0      0.0      3.0      2.0     11.0      8.0     10.0   \n",
              "virginica       0.0      0.0      1.0      0.0      1.0      4.0      5.0   \n",
              "\n",
              "            6.1-6.4  6.4-6.7  6.7-6.9  6.9-7.2  7.2-7.5  7.5-7.7  7.7-8  \n",
              "setosa          0.0      0.0      0.0      0.0      0.0      0.0    0.0  \n",
              "versicolor      7.0      3.0      5.0      1.0      0.0      0.0    0.0  \n",
              "virginica      13.0      4.0     10.0      4.0      2.0      5.0    1.0  "
            ]
          },
          "execution_count": 19,
          "metadata": {},
          "output_type": "execute_result"
        }
      ],
      "source": [
        "counts = pd.DataFrame(hist, columns=['4.3-4.6','4.6-4.8','4.8-5.1','5.1-5.4','5.4-5.6','5.6-5.8','5.8-6.1','6.1-6.4','6.4-6.7','6.7-6.9','6.9-7.2','7.2-7.5','7.5-7.7','7.7-8'], index=['setosa','versicolor','virginica'])\t\n",
        "counts"
      ]
    },
    {
      "cell_type": "code",
      "execution_count": 20,
      "metadata": {},
      "outputs": [
        {
          "data": {
            "text/html": [
              "<div>\n",
              "<style scoped>\n",
              "    .dataframe tbody tr th:only-of-type {\n",
              "        vertical-align: middle;\n",
              "    }\n",
              "\n",
              "    .dataframe tbody tr th {\n",
              "        vertical-align: top;\n",
              "    }\n",
              "\n",
              "    .dataframe thead th {\n",
              "        text-align: right;\n",
              "    }\n",
              "</style>\n",
              "<table border=\"1\" class=\"dataframe\">\n",
              "  <thead>\n",
              "    <tr style=\"text-align: right;\">\n",
              "      <th></th>\n",
              "      <th>4.3-4.6</th>\n",
              "      <th>4.6-4.8</th>\n",
              "      <th>4.8-5.1</th>\n",
              "      <th>5.1-5.4</th>\n",
              "      <th>5.4-5.6</th>\n",
              "      <th>5.6-5.8</th>\n",
              "      <th>5.8-6.1</th>\n",
              "      <th>6.1-6.4</th>\n",
              "      <th>6.4-6.7</th>\n",
              "      <th>6.7-6.9</th>\n",
              "      <th>6.9-7.2</th>\n",
              "      <th>7.2-7.5</th>\n",
              "      <th>7.5-7.7</th>\n",
              "      <th>7.7-8</th>\n",
              "    </tr>\n",
              "  </thead>\n",
              "  <tbody>\n",
              "    <tr>\n",
              "      <th>setosa</th>\n",
              "      <td>1.0</td>\n",
              "      <td>1.0</td>\n",
              "      <td>0.7500</td>\n",
              "      <td>0.857143</td>\n",
              "      <td>0.368421</td>\n",
              "      <td>0.200000</td>\n",
              "      <td>0.000000</td>\n",
              "      <td>0.00</td>\n",
              "      <td>0.000000</td>\n",
              "      <td>0.000000</td>\n",
              "      <td>0.0</td>\n",
              "      <td>0.0</td>\n",
              "      <td>0.0</td>\n",
              "      <td>0.0</td>\n",
              "    </tr>\n",
              "    <tr>\n",
              "      <th>versicolor</th>\n",
              "      <td>0.0</td>\n",
              "      <td>0.0</td>\n",
              "      <td>0.1875</td>\n",
              "      <td>0.142857</td>\n",
              "      <td>0.578947</td>\n",
              "      <td>0.533333</td>\n",
              "      <td>0.666667</td>\n",
              "      <td>0.35</td>\n",
              "      <td>0.428571</td>\n",
              "      <td>0.333333</td>\n",
              "      <td>0.2</td>\n",
              "      <td>0.0</td>\n",
              "      <td>0.0</td>\n",
              "      <td>0.0</td>\n",
              "    </tr>\n",
              "    <tr>\n",
              "      <th>virginica</th>\n",
              "      <td>0.0</td>\n",
              "      <td>0.0</td>\n",
              "      <td>0.0625</td>\n",
              "      <td>0.000000</td>\n",
              "      <td>0.052632</td>\n",
              "      <td>0.266667</td>\n",
              "      <td>0.333333</td>\n",
              "      <td>0.65</td>\n",
              "      <td>0.571429</td>\n",
              "      <td>0.666667</td>\n",
              "      <td>0.8</td>\n",
              "      <td>1.0</td>\n",
              "      <td>1.0</td>\n",
              "      <td>1.0</td>\n",
              "    </tr>\n",
              "  </tbody>\n",
              "</table>\n",
              "</div>"
            ],
            "text/plain": [
              "            4.3-4.6  4.6-4.8  4.8-5.1   5.1-5.4   5.4-5.6   5.6-5.8   5.8-6.1  \\\n",
              "setosa          1.0      1.0   0.7500  0.857143  0.368421  0.200000  0.000000   \n",
              "versicolor      0.0      0.0   0.1875  0.142857  0.578947  0.533333  0.666667   \n",
              "virginica       0.0      0.0   0.0625  0.000000  0.052632  0.266667  0.333333   \n",
              "\n",
              "            6.1-6.4   6.4-6.7   6.7-6.9  6.9-7.2  7.2-7.5  7.5-7.7  7.7-8  \n",
              "setosa         0.00  0.000000  0.000000      0.0      0.0      0.0    0.0  \n",
              "versicolor     0.35  0.428571  0.333333      0.2      0.0      0.0    0.0  \n",
              "virginica      0.65  0.571429  0.666667      0.8      1.0      1.0    1.0  "
            ]
          },
          "execution_count": 20,
          "metadata": {},
          "output_type": "execute_result"
        }
      ],
      "source": [
        "proba = counts\n",
        "for i in range(counts.shape[1]):\n",
        "    proba.iloc[:,i] = proba.iloc[:,i]/proba.iloc[:,i].sum()\n",
        "proba"
      ]
    },
    {
      "cell_type": "code",
      "execution_count": 21,
      "metadata": {},
      "outputs": [
        {
          "data": {
            "text/plain": [
              "array(['setosa', 'setosa', 'setosa', 'setosa', 'setosa', 'setosa',\n",
              "       'setosa', 'setosa', 'setosa', 'setosa'], dtype='<U10')"
            ]
          },
          "execution_count": 21,
          "metadata": {},
          "output_type": "execute_result"
        }
      ],
      "source": [
        "np.random.choice(iris.target_names, size=10, p=proba['4.6-4.8'])"
      ]
    },
    {
      "cell_type": "markdown",
      "metadata": {
        "id": "SA-qw4kN5IE9"
      },
      "source": [
        "## Approximate $p(x|y)$\n",
        "Take $y$ to be setosa and estimate the probability of sepal length given setosa (or, equivalently, the *likelihood* of setosa given sepal length). Then, generate 10 samples of sepal length and label them appropriately."
      ]
    },
    {
      "cell_type": "code",
      "execution_count": 22,
      "metadata": {},
      "outputs": [
        {
          "data": {
            "image/png": "[encoded data removed]",
            "text/plain": [
              "<Figure size 640x480 with 1 Axes>"
            ]
          },
          "metadata": {},
          "output_type": "display_data"
        }
      ],
      "source": [
        "x = X[:,0]\n",
        "\n",
        "bins = np.linspace(4.3,8,15)\n",
        "\n",
        "plt.hist(x[y==0],bins,alpha=0.5, label=iris.target_names[0])\n",
        "    \n",
        "plt.legend(loc='upper right')\n",
        "plt.xlabel('sepal length (cm)')\n",
        "plt.ylabel('count')\n",
        "plt.show()"
      ]
    },
    {
      "cell_type": "code",
      "execution_count": 23,
      "metadata": {},
      "outputs": [
        {
          "data": {
            "text/plain": [
              "array([ 5, 11, 12, 12,  7,  3,  0,  0,  0,  0,  0,  0,  0,  0],\n",
              "      dtype=int64)"
            ]
          },
          "execution_count": 23,
          "metadata": {},
          "output_type": "execute_result"
        }
      ],
      "source": [
        "setosa_lengths = x[y==0]\n",
        "setosa_hist = np.histogram(setosa_lengths, bins)[0]\n",
        "setosa_hist"
      ]
    },
    {
      "cell_type": "code",
      "execution_count": 24,
      "metadata": {},
      "outputs": [
        {
          "data": {
            "text/plain": [
              "array([0.1 , 0.22, 0.24, 0.24, 0.14, 0.06, 0.  , 0.  , 0.  , 0.  , 0.  ,\n",
              "       0.  , 0.  , 0.  ])"
            ]
          },
          "execution_count": 24,
          "metadata": {},
          "output_type": "execute_result"
        }
      ],
      "source": [
        "setosa_proba = setosa_hist / np.sum(setosa_hist)\n",
        "setosa_proba"
      ]
    },
    {
      "cell_type": "code",
      "execution_count": 25,
      "metadata": {},
      "outputs": [
        {
          "data": {
            "text/plain": [
              "array([4.82857143, 4.3       , 4.82857143, 5.09285714, 5.09285714,\n",
              "       5.35714286, 5.09285714, 4.56428571, 4.82857143, 4.82857143])"
            ]
          },
          "execution_count": 25,
          "metadata": {},
          "output_type": "execute_result"
        }
      ],
      "source": [
        "setosa_valores = np.random.choice(bins[:-1], size=10, p=setosa_proba)\n",
        "setosa_valores"
      ]
    },
    {
      "cell_type": "code",
      "execution_count": 26,
      "metadata": {},
      "outputs": [],
      "source": [
        "def get_low_high(bins, valor):\n",
        "    for i in range(len(bins) - 1):\n",
        "        if bins[i] == valor:\n",
        "            return bins[i], bins[i+1]"
      ]
    },
    {
      "cell_type": "code",
      "execution_count": 27,
      "metadata": {},
      "outputs": [
        {
          "name": "stdout",
          "output_type": "stream",
          "text": [
            "---\n",
            "4.828571428571428 5.0928571428571425\n",
            "[5.06291849]\n",
            "---\n",
            "4.3 4.564285714285714\n",
            "[4.33035354]\n",
            "---\n",
            "4.828571428571428 5.0928571428571425\n",
            "[4.87770527]\n",
            "---\n",
            "5.0928571428571425 5.357142857142857\n",
            "[5.31480075]\n",
            "---\n",
            "5.0928571428571425 5.357142857142857\n",
            "[5.32710216]\n",
            "---\n",
            "5.357142857142857 5.621428571428571\n",
            "[5.51886976]\n",
            "---\n",
            "5.0928571428571425 5.357142857142857\n",
            "[5.23081266]\n",
            "---\n",
            "4.564285714285714 4.828571428571428\n",
            "[4.67073584]\n",
            "---\n",
            "4.828571428571428 5.0928571428571425\n",
            "[4.96693921]\n",
            "---\n",
            "4.828571428571428 5.0928571428571425\n",
            "[4.9813939]\n"
          ]
        }
      ],
      "source": [
        "for setosa_valor in setosa_valores:\n",
        "    low, high = get_low_high(bins, setosa_valor)\n",
        "    print(\"---\")\n",
        "    print(low, high)\n",
        "    print(np.random.uniform(low, high, size=1))"
      ]
    },
    {
      "cell_type": "code",
      "execution_count": 28,
      "metadata": {},
      "outputs": [
        {
          "data": {
            "text/plain": [
              "array([4.96611086, 4.98941826, 4.98060968, 4.89787819, 5.02793399,\n",
              "       4.97378265, 4.9575146 , 4.96344049, 4.85797867, 5.05360353])"
            ]
          },
          "execution_count": 28,
          "metadata": {},
          "output_type": "execute_result"
        }
      ],
      "source": [
        "np.random.uniform(low, high, size=10)"
      ]
    },
    {
      "cell_type": "markdown",
      "metadata": {},
      "source": [
        "# P(Y)"
      ]
    },
    {
      "cell_type": "code",
      "execution_count": 29,
      "metadata": {},
      "outputs": [
        {
          "data": {
            "text/html": [
              "<div>\n",
              "<style scoped>\n",
              "    .dataframe tbody tr th:only-of-type {\n",
              "        vertical-align: middle;\n",
              "    }\n",
              "\n",
              "    .dataframe tbody tr th {\n",
              "        vertical-align: top;\n",
              "    }\n",
              "\n",
              "    .dataframe thead th {\n",
              "        text-align: right;\n",
              "    }\n",
              "</style>\n",
              "<table border=\"1\" class=\"dataframe\">\n",
              "  <thead>\n",
              "    <tr style=\"text-align: right;\">\n",
              "      <th></th>\n",
              "      <th>Proba</th>\n",
              "      <th>Labels</th>\n",
              "    </tr>\n",
              "  </thead>\n",
              "  <tbody>\n",
              "    <tr>\n",
              "      <th>0</th>\n",
              "      <td>0.333333</td>\n",
              "      <td>setosa</td>\n",
              "    </tr>\n",
              "    <tr>\n",
              "      <th>1</th>\n",
              "      <td>0.333333</td>\n",
              "      <td>versicolor</td>\n",
              "    </tr>\n",
              "    <tr>\n",
              "      <th>2</th>\n",
              "      <td>0.333333</td>\n",
              "      <td>virginica</td>\n",
              "    </tr>\n",
              "  </tbody>\n",
              "</table>\n",
              "</div>"
            ],
            "text/plain": [
              "      Proba      Labels\n",
              "0  0.333333      setosa\n",
              "1  0.333333  versicolor\n",
              "2  0.333333   virginica"
            ]
          },
          "execution_count": 29,
          "metadata": {},
          "output_type": "execute_result"
        }
      ],
      "source": [
        "Y = iris.target\n",
        "\n",
        "count_class_0, count_class_1, count_class_2 = np.bincount(Y)\n",
        "target_names = iris.target_names\n",
        "\n",
        "y_values = [count_class_0, count_class_1, count_class_2]\n",
        "p_y = y_values / np.sum(y_values)\n",
        "\n",
        "df = pd.DataFrame(data = {'Proba': p_y, 'Labels': target_names})\n",
        "df"
      ]
    },
    {
      "cell_type": "markdown",
      "metadata": {},
      "source": [
        "# P(X| y=Versicolor)"
      ]
    },
    {
      "cell_type": "code",
      "execution_count": 30,
      "metadata": {},
      "outputs": [
        {
          "data": {
            "image/png": "[encoded data removed]",
            "text/plain": [
              "<Figure size 640x480 with 1 Axes>"
            ]
          },
          "metadata": {},
          "output_type": "display_data"
        }
      ],
      "source": [
        "x = X[:,0]\n",
        "\n",
        "bins = np.linspace(4.3,8,15)\n",
        "\n",
        "plt.hist(x[y==1],bins,alpha=0.5, label=iris.target_names[1], color='orange')\n",
        "    \n",
        "plt.legend(loc='upper right')\n",
        "plt.xlabel('sepal length (cm)')\n",
        "plt.ylabel('count')\n",
        "plt.show()"
      ]
    },
    {
      "cell_type": "code",
      "execution_count": 31,
      "metadata": {},
      "outputs": [
        {
          "data": {
            "text/plain": [
              "array([ 0,  0,  3,  2, 11,  8, 10,  7,  3,  5,  1,  0,  0,  0],\n",
              "      dtype=int64)"
            ]
          },
          "execution_count": 31,
          "metadata": {},
          "output_type": "execute_result"
        }
      ],
      "source": [
        "versicolor_lengths = x[y==1]\n",
        "versicolor_hist = np.histogram(versicolor_lengths, bins)[0]\n",
        "versicolor_hist"
      ]
    },
    {
      "cell_type": "code",
      "execution_count": 32,
      "metadata": {},
      "outputs": [
        {
          "data": {
            "text/plain": [
              "array([0.  , 0.  , 0.06, 0.04, 0.22, 0.16, 0.2 , 0.14, 0.06, 0.1 , 0.02,\n",
              "       0.  , 0.  , 0.  ])"
            ]
          },
          "execution_count": 32,
          "metadata": {},
          "output_type": "execute_result"
        }
      ],
      "source": [
        "versicolor_proba = versicolor_hist / np.sum(versicolor_hist)\n",
        "versicolor_proba"
      ]
    },
    {
      "cell_type": "code",
      "execution_count": 33,
      "metadata": {},
      "outputs": [
        {
          "data": {
            "text/plain": [
              "array([5.62142857, 5.09285714, 5.62142857, 5.62142857, 5.09285714,\n",
              "       5.35714286, 6.67857143, 4.82857143, 6.15      , 6.67857143])"
            ]
          },
          "execution_count": 33,
          "metadata": {},
          "output_type": "execute_result"
        }
      ],
      "source": [
        "versicolor_valores = np.random.choice(bins[:-1], size=10, p=versicolor_proba)\n",
        "versicolor_valores"
      ]
    },
    {
      "cell_type": "code",
      "execution_count": 34,
      "metadata": {},
      "outputs": [
        {
          "name": "stdout",
          "output_type": "stream",
          "text": [
            "---\n",
            "5.621428571428571 5.885714285714286\n",
            "[5.75035187]\n",
            "---\n",
            "5.0928571428571425 5.357142857142857\n",
            "[5.09831178]\n",
            "---\n",
            "5.621428571428571 5.885714285714286\n",
            "[5.68838049]\n",
            "---\n",
            "5.621428571428571 5.885714285714286\n",
            "[5.86430551]\n",
            "---\n",
            "5.0928571428571425 5.357142857142857\n",
            "[5.18711067]\n",
            "---\n",
            "5.357142857142857 5.621428571428571\n",
            "[5.51531317]\n",
            "---\n",
            "6.678571428571429 6.942857142857143\n",
            "[6.79749508]\n",
            "---\n",
            "4.828571428571428 5.0928571428571425\n",
            "[5.03027002]\n",
            "---\n",
            "6.15 6.414285714285715\n",
            "[6.26249]\n",
            "---\n",
            "6.678571428571429 6.942857142857143\n",
            "[6.69271821]\n"
          ]
        }
      ],
      "source": [
        "for versicolor_valor in versicolor_valores:\n",
        "    low, high = get_low_high(bins, versicolor_valor)\n",
        "    print(\"---\")\n",
        "    print(low, high)\n",
        "    print(np.random.uniform(low, high, size=1))"
      ]
    },
    {
      "cell_type": "markdown",
      "metadata": {},
      "source": [
        "# P(X| y=Virginica)"
      ]
    },
    {
      "cell_type": "code",
      "execution_count": 36,
      "metadata": {},
      "outputs": [
        {
          "data": {
            "image/png": "[encoded data removed]",
            "text/plain": [
              "<Figure size 640x480 with 1 Axes>"
            ]
          },
          "metadata": {},
          "output_type": "display_data"
        }
      ],
      "source": [
        "x = X[:,0]\n",
        "\n",
        "bins = np.linspace(4.3,8,15)\n",
        "\n",
        "plt.hist(x[y==2],bins,alpha=0.5, label=iris.target_names[2], color='green')\n",
        "    \n",
        "plt.legend(loc='upper right')\n",
        "plt.xlabel('sepal length (cm)')\n",
        "plt.ylabel('count')\n",
        "plt.show()\n"
      ]
    },
    {
      "cell_type": "code",
      "execution_count": 37,
      "metadata": {},
      "outputs": [
        {
          "data": {
            "text/plain": [
              "array([ 0,  0,  1,  0,  1,  4,  5, 13,  4, 10,  4,  2,  5,  1],\n",
              "      dtype=int64)"
            ]
          },
          "execution_count": 37,
          "metadata": {},
          "output_type": "execute_result"
        }
      ],
      "source": [
        "virginica_lengths = x[y==2]\n",
        "virginica_hist = np.histogram(virginica_lengths, bins)[0]\n",
        "virginica_hist"
      ]
    },
    {
      "cell_type": "code",
      "execution_count": 38,
      "metadata": {},
      "outputs": [
        {
          "data": {
            "text/plain": [
              "array([0.  , 0.  , 0.02, 0.  , 0.02, 0.08, 0.1 , 0.26, 0.08, 0.2 , 0.08,\n",
              "       0.04, 0.1 , 0.02])"
            ]
          },
          "execution_count": 38,
          "metadata": {},
          "output_type": "execute_result"
        }
      ],
      "source": [
        "virginica_proba = virginica_hist / np.sum(virginica_hist)\n",
        "virginica_proba"
      ]
    },
    {
      "cell_type": "code",
      "execution_count": 39,
      "metadata": {},
      "outputs": [
        {
          "data": {
            "text/plain": [
              "array([7.20714286, 6.67857143, 5.88571429, 6.67857143, 7.47142857,\n",
              "       6.15      , 5.88571429, 6.67857143, 6.15      , 6.67857143])"
            ]
          },
          "execution_count": 39,
          "metadata": {},
          "output_type": "execute_result"
        }
      ],
      "source": [
        "virginica_valores = np.random.choice(bins[:-1], size=10, p=virginica_proba)\n",
        "virginica_valores"
      ]
    },
    {
      "cell_type": "code",
      "execution_count": 40,
      "metadata": {},
      "outputs": [
        {
          "name": "stdout",
          "output_type": "stream",
          "text": [
            "---\n",
            "7.207142857142857 7.4714285714285715\n",
            "[7.37429833]\n",
            "---\n",
            "6.678571428571429 6.942857142857143\n",
            "[6.72830661]\n",
            "---\n",
            "5.885714285714286 6.15\n",
            "[6.08855924]\n",
            "---\n",
            "6.678571428571429 6.942857142857143\n",
            "[6.73040459]\n",
            "---\n",
            "7.4714285714285715 7.735714285714286\n",
            "[7.61181124]\n",
            "---\n",
            "6.15 6.414285714285715\n",
            "[6.24364303]\n",
            "---\n",
            "5.885714285714286 6.15\n",
            "[6.0359763]\n",
            "---\n",
            "6.678571428571429 6.942857142857143\n",
            "[6.67916199]\n",
            "---\n",
            "6.15 6.414285714285715\n",
            "[6.1917112]\n",
            "---\n",
            "6.678571428571429 6.942857142857143\n",
            "[6.71229622]\n"
          ]
        }
      ],
      "source": [
        "for virginica_valor in virginica_valores:\n",
        "    low, high = get_low_high(bins, virginica_valor)\n",
        "    print(\"---\")\n",
        "    print(low, high)\n",
        "    print(np.random.uniform(low, high, size=1))"
      ]
    },
    {
      "cell_type": "markdown",
      "metadata": {},
      "source": [
        "# P(sepal length) = P(x | y=setosa) P(y=setosa) + P(x | y=versicolor) P(y=versicolor) + P(x | y=virginica) P(y=virginica) "
      ]
    },
    {
      "cell_type": "code",
      "execution_count": 70,
      "metadata": {},
      "outputs": [
        {
          "name": "stdout",
          "output_type": "stream",
          "text": [
            "[5.97607202]\n"
          ]
        }
      ],
      "source": [
        "setosa_valor = np.random.choice(bins[:-1], size=1, p=setosa_proba)\n",
        "setosa_low, setosa_high = get_low_high(bins, setosa_valor)\n",
        "s = np.random.uniform(setosa_low, setosa_high, size=1)\n",
        "\n",
        "versicolor_valor = np.random.choice(bins[:-1], size=1, p=versicolor_proba)\n",
        "versicolor_low, versicolor_high = get_low_high(bins, versicolor_valor)\n",
        "v = np.random.uniform(versicolor_low, versicolor_high, size=1)\n",
        "\n",
        "virginica_valor = np.random.choice(bins[:-1], size=1, p=virginica_proba)\n",
        "virginica_low, virginica_high = get_low_high(bins, virginica_valor)\n",
        "vi = np.random.uniform(virginica_low, virginica_high, size=1)\n",
        "\n",
        "p_sepal_length = s*1/3 + v*1/3 + vi*1/3\n",
        "print(p_sepal_length)\n"
      ]
    },
    {
      "cell_type": "markdown",
      "metadata": {},
      "source": [
        "# Gaussianas"
      ]
    },
    {
      "cell_type": "code",
      "execution_count": 43,
      "metadata": {},
      "outputs": [
        {
          "name": "stdout",
          "output_type": "stream",
          "text": [
            "Setosa\n",
            "mean: 5.006\n",
            "std: 0.3489469873777391\n",
            "Versicolor\n",
            "mean: 5.936\n",
            "std: 0.5109833656783751\n",
            "Virginica\n",
            "mean: 6.587999999999998\n",
            "std: 0.6294886813914926\n"
          ]
        }
      ],
      "source": [
        "data = iris.data\n",
        "target = iris.target\n",
        "# Separamos los datos por clases\n",
        "x = X[:,0]\n",
        "setosa_data = x[y==0]\n",
        "versicolor_data = x[y==1]\n",
        "virginica_data = x[y==2]\n",
        "\n",
        "# Estimamos los parámetros de la distribución gaussiana para sepal length\n",
        "mean_setosa = np.mean(setosa_data)\n",
        "std_setosa = np.std(setosa_data)\n",
        "print(f'Setosa') \n",
        "print(f'mean: {mean_setosa}') \n",
        "print(f'std: {std_setosa}') \n",
        "\n",
        "mean_versicolor = np.mean(versicolor_data)\n",
        "std_versicolor = np.std(versicolor_data)\n",
        "print(f'Versicolor') \n",
        "print(f'mean: {mean_versicolor}') \n",
        "print(f'std: {std_versicolor}') \n",
        "\n",
        "mean_virginica= np.mean(virginica_data)\n",
        "std_virginica = np.std(virginica_data)\n",
        "print(f'Virginica') \n",
        "print(f'mean: {mean_virginica}') \n",
        "print(f'std: {std_virginica}') "
      ]
    },
    {
      "cell_type": "code",
      "execution_count": 44,
      "metadata": {},
      "outputs": [
        {
          "data": {
            "text/plain": [
              "5.241373871325544"
            ]
          },
          "execution_count": 44,
          "metadata": {},
          "output_type": "execute_result"
        }
      ],
      "source": [
        "\n",
        "gaussian_setosa = np.random.normal(loc=mean_setosa, scale=std_setosa, size=None)\n",
        "gaussian_setosa"
      ]
    },
    {
      "cell_type": "code",
      "execution_count": 45,
      "metadata": {},
      "outputs": [
        {
          "data": {
            "text/plain": [
              "[<matplotlib.lines.Line2D at 0x27dce14a2e0>]"
            ]
          },
          "execution_count": 45,
          "metadata": {},
          "output_type": "execute_result"
        },
        {
          "data": {
            "image/png": "[encoded data removed]",
            "text/plain": [
              "<Figure size 640x480 with 1 Axes>"
            ]
          },
          "metadata": {},
          "output_type": "display_data"
        }
      ],
      "source": [
        "\n",
        "x = np.arange(3, 7, 0.01)\n",
        "plt.plot(x, norm.pdf(x, mean_setosa, std_setosa))"
      ]
    },
    {
      "cell_type": "code",
      "execution_count": 46,
      "metadata": {},
      "outputs": [
        {
          "data": {
            "text/plain": [
              "6.841053442492478"
            ]
          },
          "execution_count": 46,
          "metadata": {},
          "output_type": "execute_result"
        }
      ],
      "source": [
        "gaussian_versicolor = np.random.normal(loc=mean_versicolor, scale=std_versicolor, size=None)\n",
        "gaussian_versicolor"
      ]
    },
    {
      "cell_type": "code",
      "execution_count": 47,
      "metadata": {},
      "outputs": [
        {
          "data": {
            "text/plain": [
              "[<matplotlib.lines.Line2D at 0x27dce1ce340>]"
            ]
          },
          "execution_count": 47,
          "metadata": {},
          "output_type": "execute_result"
        },
        {
          "data": {
            "image/png": "[encoded data removed]",
            "text/plain": [
              "<Figure size 640x480 with 1 Axes>"
            ]
          },
          "metadata": {},
          "output_type": "display_data"
        }
      ],
      "source": [
        "\n",
        "x = np.arange(4, 8, 0.01)\n",
        "plt.plot(x, norm.pdf(x, mean_versicolor, std_versicolor))"
      ]
    },
    {
      "cell_type": "code",
      "execution_count": 48,
      "metadata": {},
      "outputs": [
        {
          "data": {
            "text/plain": [
              "7.1154585825461805"
            ]
          },
          "execution_count": 48,
          "metadata": {},
          "output_type": "execute_result"
        }
      ],
      "source": [
        "gaussian_virginica = np.random.normal(loc=mean_virginica, scale=std_virginica, size=None)\n",
        "gaussian_virginica"
      ]
    },
    {
      "cell_type": "code",
      "execution_count": 49,
      "metadata": {},
      "outputs": [
        {
          "data": {
            "text/plain": [
              "[<matplotlib.lines.Line2D at 0x27dce2586d0>]"
            ]
          },
          "execution_count": 49,
          "metadata": {},
          "output_type": "execute_result"
        },
        {
          "data": {
            "image/png": "[encoded data removed]",
            "text/plain": [
              "<Figure size 640x480 with 1 Axes>"
            ]
          },
          "metadata": {},
          "output_type": "display_data"
        }
      ],
      "source": [
        "x = np.arange(4, 9, 0.01)\n",
        "plt.plot(x, norm.pdf(x, mean_virginica, std_virginica))"
      ]
    },
    {
      "cell_type": "code",
      "execution_count": 50,
      "metadata": {},
      "outputs": [
        {
          "data": {
            "text/plain": [
              "6.2697260540807935"
            ]
          },
          "execution_count": 50,
          "metadata": {},
          "output_type": "execute_result"
        }
      ],
      "source": [
        "gaussian_setosa = np.random.normal(loc=mean_setosa, scale=std_setosa, size=None)\n",
        "gaussian_versicolor = np.random.normal(loc=mean_versicolor, scale=std_versicolor, size=None)\n",
        "gaussian_virginica = np.random.normal(loc=mean_virginica, scale=std_virginica, size=None)\n",
        "prob_sepal_length = gaussian_setosa*1/3 + gaussian_versicolor*1/3 + gaussian_virginica*1/3 \n",
        "prob_sepal_length"
      ]
    },
    {
      "cell_type": "code",
      "execution_count": 51,
      "metadata": {},
      "outputs": [
        {
          "data": {
            "image/png": "[encoded data removed]",
            "text/plain": [
              "<Figure size 640x480 with 1 Axes>"
            ]
          },
          "metadata": {},
          "output_type": "display_data"
        }
      ],
      "source": [
        "x = np.arange(3, 9, 0.01)\n",
        "plt.plot(x, norm.pdf(x, mean_setosa, std_setosa), color='blue')\n",
        "plt.plot(x, norm.pdf(x, mean_versicolor, std_versicolor), color='orange')\n",
        "plt.plot(x, norm.pdf(x, mean_virginica, std_virginica), color='green')\n",
        "plt.show()"
      ]
    },
    {
      "cell_type": "code",
      "execution_count": 57,
      "metadata": {},
      "outputs": [],
      "source": [
        "lengths_set = [] \n",
        "lengths_ver = []\n",
        "lengths_vir = []\n",
        "\n",
        "for i in range(50):\n",
        "    gaussian_setosa = np.random.normal(loc=mean_setosa, scale=std_setosa, size=None)\n",
        "    gaussian_versicolor = np.random.normal(loc=mean_versicolor, scale=std_versicolor, size=None)\n",
        "    gaussian_virginica = np.random.normal(loc=mean_virginica, scale=std_virginica, size=None)\n",
        "\n",
        "    lengths_set.append(gaussian_setosa)\n",
        "    lengths_ver.append(gaussian_versicolor)\n",
        "    lengths_vir.append(gaussian_virginica)"
      ]
    },
    {
      "cell_type": "code",
      "execution_count": 64,
      "metadata": {},
      "outputs": [
        {
          "data": {
            "text/plain": [
              "<Figure size 1000x500 with 0 Axes>"
            ]
          },
          "metadata": {},
          "output_type": "display_data"
        },
        {
          "data": {
            "image/png": "[encoded data removed]",
            "text/plain": [
              "<Figure size 640x480 with 2 Axes>"
            ]
          },
          "metadata": {},
          "output_type": "display_data"
        }
      ],
      "source": [
        "plt.figure(figsize=(10,5))\n",
        "fig, axs = plt.subplots(1, 2, sharex=True, sharey=True, tight_layout=True)\n",
        "bins = np.linspace(4.3,8,15)\n",
        "\n",
        "axs[0].hist(lengths_set,bins,alpha=0.5, label=iris.target_names[0], color='blue')\n",
        "axs[0].hist(lengths_ver,bins,alpha=0.5, label=iris.target_names[1], color='orange')\n",
        "axs[0].hist(lengths_vir,bins,alpha=0.5, label=iris.target_names[2], color='green')\n",
        "\n",
        "set_mean = np.mean(lengths_set)\n",
        "vers_mean = np.mean(lengths_ver)\n",
        "vir_mean = np.mean(lengths_vir)\n",
        "\n",
        "x = X[:,0]\n",
        "\n",
        "for i in range(3):\n",
        "    plt.hist(x[y==i],bins,alpha=0.5, label=iris.target_names[i])\n",
        "\n",
        "plt.show()"
      ]
    },
    {
      "cell_type": "code",
      "execution_count": 67,
      "metadata": {},
      "outputs": [
        {
          "data": {
            "text/plain": [
              "<Figure size 1000x500 with 0 Axes>"
            ]
          },
          "metadata": {},
          "output_type": "display_data"
        },
        {
          "data": {
            "image/png": "[encoded data removed]",
            "text/plain": [
              "<Figure size 640x480 with 2 Axes>"
            ]
          },
          "metadata": {},
          "output_type": "display_data"
        }
      ],
      "source": [
        "s_l = []\n",
        "v_l = []\n",
        "vi_l = []\n",
        "\n",
        "for i in range(50):\n",
        "    setosa_valor = np.random.choice(bins[:-1], size=1, p=setosa_proba)\n",
        "    setosa_low, setosa_high = get_low_high(bins, setosa_valor)\n",
        "    s = np.random.uniform(setosa_low, setosa_high, size=1)[0]\n",
        "\n",
        "    versicolor_valor = np.random.choice(bins[:-1], size=1, p=versicolor_proba)\n",
        "    versicolor_low, versicolor_high = get_low_high(bins, versicolor_valor)\n",
        "    v = np.random.uniform(versicolor_low, versicolor_high, size=1)[0]\n",
        "\n",
        "    virginica_valor = np.random.choice(bins[:-1], size=1, p=virginica_proba)\n",
        "    virginica_low, virginica_high = get_low_high(bins, virginica_valor)\n",
        "    vi = np.random.uniform(virginica_low, virginica_high, size=1)[0]\n",
        "\n",
        "    s_l.append(s)\n",
        "    v_l.append(v)\n",
        "    vi_l.append(vi)\n",
        "\n",
        "plt.figure(figsize=(10,5))\n",
        "fig, axs = plt.subplots(1, 2, sharex=True, sharey=True, tight_layout=True)\n",
        "bins = np.linspace(4.3,8,15)\n",
        "\n",
        "axs[0].hist(s_l,bins,alpha=0.5, label=iris.target_names[0], color='blue')\n",
        "axs[0].hist(v_l,bins,alpha=0.5, label=iris.target_names[1], color='orange')\n",
        "axs[0].hist(vi_l,bins,alpha=0.5, label=iris.target_names[2], color='green')\n",
        "\n",
        "x = X[:,0]\n",
        "\n",
        "for i in range(3):\n",
        "    plt.hist(x[y==i],bins,alpha=0.5, label=iris.target_names[i])\n",
        "\n",
        "plt.show()\n"
      ]
    }
  ],
  "metadata": {
    "colab": {
      "provenance": [],
      "toc_visible": true
    },
    "kernelspec": {
      "display_name": "Python 3",
      "name": "python3"
    },
    "language_info": {
      "codemirror_mode": {
        "name": "ipython",
        "version": 3
      },
      "file_extension": ".py",
      "mimetype": "text/x-python",
      "name": "python",
      "nbconvert_exporter": "python",
      "pygments_lexer": "ipython3",
      "version": "3.9.13"
    }
  },
  "nbformat": 4,
  "nbformat_minor": 0
}
